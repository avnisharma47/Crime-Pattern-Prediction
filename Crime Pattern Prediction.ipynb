{
 "cells": [
  {
   "cell_type": "markdown",
   "metadata": {},
   "source": [
    "### Crime Pattern Prediction"
   ]
  },
  {
   "cell_type": "code",
   "execution_count": 30,
   "metadata": {},
   "outputs": [],
   "source": [
    "import pandas as pd\n",
    "import numpy as np\n",
    "import sklearn.metrics as metrics\n",
    "from sklearn.tree import DecisionTreeClassifier, export_graphviz\n",
    "from sklearn import svm\n",
    "from sklearn.model_selection import cross_val_score\n",
    "from sklearn.linear_model import LogisticRegression\n",
    "from  sklearn.linear_model import LinearRegression\n",
    "from sklearn.naive_bayes import GaussianNB\n",
    "from sklearn.model_selection import validation_curve\n",
    "from sklearn.preprocessing import binarize\n",
    "import matplotlib.pyplot as plot\n",
    "from sklearn import linear_model\n",
    "from IPython.display import Image \n",
    "from sklearn.preprocessing import PolynomialFeatures\n",
    "from sklearn import tree\n",
    "import sklearn.preprocessing as prep\n",
    "import pydotplus \n",
    "import math\n",
    "from sklearn.linear_model import RidgeCV\n",
    "import sklearn.linear_model as linear_model\n",
    "from sklearn.model_selection import GridSearchCV\n",
    "from sklearn.cluster import KMeans\n",
    "from sklearn.ensemble import GradientBoostingClassifier\n",
    "from sklearn.ensemble import RandomForestClassifier\n",
    "import matplotlib.pyplot as plt"
   ]
  },
  {
   "cell_type": "code",
   "execution_count": 2,
   "metadata": {},
   "outputs": [
    {
     "data": {
      "text/html": [
       "<div>\n",
       "<style scoped>\n",
       "    .dataframe tbody tr th:only-of-type {\n",
       "        vertical-align: middle;\n",
       "    }\n",
       "\n",
       "    .dataframe tbody tr th {\n",
       "        vertical-align: top;\n",
       "    }\n",
       "\n",
       "    .dataframe thead th {\n",
       "        text-align: right;\n",
       "    }\n",
       "</style>\n",
       "<table border=\"1\" class=\"dataframe\">\n",
       "  <thead>\n",
       "    <tr style=\"text-align: right;\">\n",
       "      <th></th>\n",
       "      <th>state</th>\n",
       "      <th>communityname</th>\n",
       "      <th>fold</th>\n",
       "      <th>population</th>\n",
       "      <th>householdsize</th>\n",
       "      <th>racepctblack</th>\n",
       "      <th>racePctWhite</th>\n",
       "      <th>racePctAsian</th>\n",
       "      <th>racePctHisp</th>\n",
       "      <th>agePct12t21</th>\n",
       "      <th>...</th>\n",
       "      <th>PctForeignBorn</th>\n",
       "      <th>PctBornSameState</th>\n",
       "      <th>PctSameHouse85</th>\n",
       "      <th>PctSameCity85</th>\n",
       "      <th>PctSameState85</th>\n",
       "      <th>LandArea</th>\n",
       "      <th>PopDens</th>\n",
       "      <th>PctUsePubTrans</th>\n",
       "      <th>LemasPctOfficDrugUn</th>\n",
       "      <th>ViolentCrimesPerPop</th>\n",
       "    </tr>\n",
       "  </thead>\n",
       "  <tbody>\n",
       "    <tr>\n",
       "      <th>0</th>\n",
       "      <td>1</td>\n",
       "      <td>Alabastercity</td>\n",
       "      <td>7</td>\n",
       "      <td>0.01</td>\n",
       "      <td>0.61</td>\n",
       "      <td>0.21</td>\n",
       "      <td>0.83</td>\n",
       "      <td>0.02</td>\n",
       "      <td>0.01</td>\n",
       "      <td>0.41</td>\n",
       "      <td>...</td>\n",
       "      <td>0.03</td>\n",
       "      <td>0.70</td>\n",
       "      <td>0.40</td>\n",
       "      <td>0.34</td>\n",
       "      <td>0.57</td>\n",
       "      <td>0.05</td>\n",
       "      <td>0.06</td>\n",
       "      <td>0.01</td>\n",
       "      <td>0.0</td>\n",
       "      <td>0.06</td>\n",
       "    </tr>\n",
       "    <tr>\n",
       "      <th>1</th>\n",
       "      <td>1</td>\n",
       "      <td>AlexanderCitycity</td>\n",
       "      <td>10</td>\n",
       "      <td>0.01</td>\n",
       "      <td>0.41</td>\n",
       "      <td>0.55</td>\n",
       "      <td>0.57</td>\n",
       "      <td>0.01</td>\n",
       "      <td>0.00</td>\n",
       "      <td>0.47</td>\n",
       "      <td>...</td>\n",
       "      <td>0.00</td>\n",
       "      <td>0.93</td>\n",
       "      <td>0.66</td>\n",
       "      <td>0.82</td>\n",
       "      <td>0.84</td>\n",
       "      <td>0.11</td>\n",
       "      <td>0.03</td>\n",
       "      <td>0.01</td>\n",
       "      <td>0.0</td>\n",
       "      <td>0.14</td>\n",
       "    </tr>\n",
       "    <tr>\n",
       "      <th>2</th>\n",
       "      <td>1</td>\n",
       "      <td>Annistoncity</td>\n",
       "      <td>3</td>\n",
       "      <td>0.03</td>\n",
       "      <td>0.34</td>\n",
       "      <td>0.86</td>\n",
       "      <td>0.30</td>\n",
       "      <td>0.04</td>\n",
       "      <td>0.01</td>\n",
       "      <td>0.41</td>\n",
       "      <td>...</td>\n",
       "      <td>0.04</td>\n",
       "      <td>0.77</td>\n",
       "      <td>0.59</td>\n",
       "      <td>0.70</td>\n",
       "      <td>0.64</td>\n",
       "      <td>0.06</td>\n",
       "      <td>0.11</td>\n",
       "      <td>0.04</td>\n",
       "      <td>0.0</td>\n",
       "      <td>1.00</td>\n",
       "    </tr>\n",
       "    <tr>\n",
       "      <th>3</th>\n",
       "      <td>1</td>\n",
       "      <td>Athenscity</td>\n",
       "      <td>8</td>\n",
       "      <td>0.01</td>\n",
       "      <td>0.38</td>\n",
       "      <td>0.35</td>\n",
       "      <td>0.71</td>\n",
       "      <td>0.04</td>\n",
       "      <td>0.01</td>\n",
       "      <td>0.39</td>\n",
       "      <td>...</td>\n",
       "      <td>0.03</td>\n",
       "      <td>0.78</td>\n",
       "      <td>0.56</td>\n",
       "      <td>0.67</td>\n",
       "      <td>0.71</td>\n",
       "      <td>0.09</td>\n",
       "      <td>0.05</td>\n",
       "      <td>0.00</td>\n",
       "      <td>0.0</td>\n",
       "      <td>0.23</td>\n",
       "    </tr>\n",
       "    <tr>\n",
       "      <th>4</th>\n",
       "      <td>1</td>\n",
       "      <td>Auburncity</td>\n",
       "      <td>1</td>\n",
       "      <td>0.04</td>\n",
       "      <td>0.37</td>\n",
       "      <td>0.32</td>\n",
       "      <td>0.70</td>\n",
       "      <td>0.21</td>\n",
       "      <td>0.02</td>\n",
       "      <td>1.00</td>\n",
       "      <td>...</td>\n",
       "      <td>0.12</td>\n",
       "      <td>0.49</td>\n",
       "      <td>0.12</td>\n",
       "      <td>0.00</td>\n",
       "      <td>0.15</td>\n",
       "      <td>0.09</td>\n",
       "      <td>0.09</td>\n",
       "      <td>0.01</td>\n",
       "      <td>0.0</td>\n",
       "      <td>0.15</td>\n",
       "    </tr>\n",
       "  </tbody>\n",
       "</table>\n",
       "<p>5 rows × 104 columns</p>\n",
       "</div>"
      ],
      "text/plain": [
       "   state      communityname  fold  population  householdsize  racepctblack  \\\n",
       "0      1      Alabastercity     7        0.01           0.61          0.21   \n",
       "1      1  AlexanderCitycity    10        0.01           0.41          0.55   \n",
       "2      1       Annistoncity     3        0.03           0.34          0.86   \n",
       "3      1         Athenscity     8        0.01           0.38          0.35   \n",
       "4      1         Auburncity     1        0.04           0.37          0.32   \n",
       "\n",
       "   racePctWhite  racePctAsian  racePctHisp  agePct12t21  ...  PctForeignBorn  \\\n",
       "0          0.83          0.02         0.01         0.41  ...            0.03   \n",
       "1          0.57          0.01         0.00         0.47  ...            0.00   \n",
       "2          0.30          0.04         0.01         0.41  ...            0.04   \n",
       "3          0.71          0.04         0.01         0.39  ...            0.03   \n",
       "4          0.70          0.21         0.02         1.00  ...            0.12   \n",
       "\n",
       "   PctBornSameState  PctSameHouse85  PctSameCity85  PctSameState85  LandArea  \\\n",
       "0              0.70            0.40           0.34            0.57      0.05   \n",
       "1              0.93            0.66           0.82            0.84      0.11   \n",
       "2              0.77            0.59           0.70            0.64      0.06   \n",
       "3              0.78            0.56           0.67            0.71      0.09   \n",
       "4              0.49            0.12           0.00            0.15      0.09   \n",
       "\n",
       "   PopDens  PctUsePubTrans  LemasPctOfficDrugUn  ViolentCrimesPerPop  \n",
       "0     0.06            0.01                  0.0                 0.06  \n",
       "1     0.03            0.01                  0.0                 0.14  \n",
       "2     0.11            0.04                  0.0                 1.00  \n",
       "3     0.05            0.00                  0.0                 0.23  \n",
       "4     0.09            0.01                  0.0                 0.15  \n",
       "\n",
       "[5 rows x 104 columns]"
      ]
     },
     "execution_count": 2,
     "metadata": {},
     "output_type": "execute_result"
    }
   ],
   "source": [
    "communities_crime_df = pd.read_csv(r\"C:\\Users\\ABNI\\Documents\\GitHub\\crime-prediction\\communities-crime-clean.csv.csv\")\n",
    "\n",
    "# Sanity test we have good data\n",
    "communities_crime_df.head()"
   ]
  },
  {
   "cell_type": "markdown",
   "metadata": {},
   "source": [
    "#### 1. Decision Tree"
   ]
  },
  {
   "cell_type": "code",
   "execution_count": 3,
   "metadata": {},
   "outputs": [
    {
     "name": "stdout",
     "output_type": "stream",
     "text": [
      "highCrime\n",
      "False    37.280482\n",
      "True     62.719518\n",
      "dtype: float64\n",
      "------------------\n",
      "Percentage Positive Instance = 62.719518314099346\n",
      "Percentage Negative Instance = 37.280481685900654 \n"
     ]
    }
   ],
   "source": [
    "def setHighCrime(df):\n",
    "    '''Function to set value of highCrime depending on ViolentCrimesPerPop'''\n",
    "    if df['ViolentCrimesPerPop'] > 0.1:\n",
    "        return True\n",
    "    else:\n",
    "        return False\n",
    "    \n",
    "# Adding a new field \"highCrime\"\n",
    "communities_crime_df['highCrime'] = communities_crime_df.apply(setHighCrime, axis=1)\n",
    "\n",
    "# Calculating the percentage of positive and negative instances in the dataset\n",
    "percentage_intances = communities_crime_df.groupby('highCrime').size() * 100 / len(communities_crime_df)\n",
    "print(percentage_intances)\n",
    "print(\"------------------\")\n",
    "print(\"Percentage Positive Instance = {}\\nPercentage Negative Instance = {} \".format(percentage_intances[1],percentage_intances[0]))"
   ]
  },
  {
   "cell_type": "code",
   "execution_count": 4,
   "metadata": {},
   "outputs": [
    {
     "name": "stdout",
     "output_type": "stream",
     "text": [
      "Training Accuracy = 1.0 Precision = 1.0 Recall = 1.0\n"
     ]
    }
   ],
   "source": [
    "#Dropping non-predictive fields as well as ViolentCrimesPerPop field \n",
    "X = communities_crime_df.drop('ViolentCrimesPerPop', axis=1).drop('state', axis=1).drop('communityname', axis=1).drop('fold', axis=1).drop('highCrime', axis=1)\n",
    "features = list(X.columns)\n",
    "y = communities_crime_df[\"highCrime\"]\n",
    "\n",
    "\n",
    "# First, we tried by not defining the max depth\n",
    "dt_clf = DecisionTreeClassifier()\n",
    "dt_clf.fit(X,y)\n",
    "predicted = dt_clf.predict(X[features])\n",
    "recall_score = metrics.recall_score(communities_crime_df['highCrime'], predicted)\n",
    "precision_score = metrics.precision_score(communities_crime_df['highCrime'], predicted)\n",
    "accuracy_score = metrics.accuracy_score(communities_crime_df['highCrime'], predicted)\n",
    "print(\"Training Accuracy = {} Precision = {} Recall = {}\".format(accuracy_score,precision_score,recall_score))"
   ]
  },
  {
   "cell_type": "code",
   "execution_count": 5,
   "metadata": {},
   "outputs": [
    {
     "name": "stdout",
     "output_type": "stream",
     "text": [
      "Depth: 1 Accuracy: 0.761\n",
      "Depth: 2 Accuracy: 0.776\n",
      "Depth: 3 Accuracy: 0.798\n",
      "Depth: 4 Accuracy: 0.790\n",
      "Depth: 5 Accuracy: 0.779\n",
      "Depth: 6 Accuracy: 0.768\n",
      "Depth: 7 Accuracy: 0.764\n",
      "Depth: 8 Accuracy: 0.746\n",
      "Depth: 9 Accuracy: 0.744\n"
     ]
    }
   ],
   "source": [
    "for depth in range(1,10):\n",
    "    tree_clf = DecisionTreeClassifier(max_depth=depth, random_state=0)\n",
    "    if tree_clf.fit(X,y).tree_.max_depth < depth:\n",
    "        break\n",
    "    score = np.mean(cross_val_score(tree_clf, X, y,scoring='accuracy', cv=10, n_jobs=1))\n",
    "    print(\"Depth: %i Accuracy: %.3f\" % (depth,score))"
   ]
  },
  {
   "cell_type": "code",
   "execution_count": 6,
   "metadata": {},
   "outputs": [
    {
     "name": "stdout",
     "output_type": "stream",
     "text": [
      "Accuracy for DT = 0.8359257400903161\n",
      "Precision for DT = 0.9002601908065915\n",
      "Recall for DT = 0.9002601908065915\n"
     ]
    }
   ],
   "source": [
    "dt_clf = DecisionTreeClassifier(max_depth=3)\n",
    "dt_clf.fit(X,y)\n",
    "#Predicting \n",
    "pred_dt= dt_clf.predict(X)\n",
    "dt_accuracy= metrics.accuracy_score(communities_crime_df['highCrime'], pred_dt)\n",
    "dt_precision= metrics.precision_score(communities_crime_df['highCrime'], pred_dt)\n",
    "dt_recall= metrics.recall_score(communities_crime_df['highCrime'], pred_dt)\n",
    "print(\"Accuracy for DT =\",dt_accuracy)\n",
    "print(\"Precision for DT =\",dt_precision)\n",
    "print(\"Recall for DT =\",dt_precision)"
   ]
  },
  {
   "cell_type": "code",
   "execution_count": 7,
   "metadata": {},
   "outputs": [
    {
     "data": {
      "image/png": "[encoded data removed]",
      "text/plain": [
       "<IPython.core.display.Image object>"
      ]
     },
     "execution_count": 7,
     "metadata": {},
     "output_type": "execute_result"
    }
   ],
   "source": [
    "dot_data = tree.export_graphviz(dt_clf, out_file=None,feature_names=list(X))\n",
    "\n",
    "graph = pydotplus.graph_from_dot_data(dot_data)  \n",
    "Image(graph.create_png())"
   ]
  },
  {
   "cell_type": "code",
   "execution_count": 8,
   "metadata": {},
   "outputs": [
    {
     "name": "stdout",
     "output_type": "stream",
     "text": [
      "Feature ranking:\n",
      "The main features used for classification\n",
      "Index(['PctKids2Par', 'racePctWhite', 'racePctHisp', 'HousVacant',\n",
      "       'LemasPctOfficDrugUn'],\n",
      "      dtype='object')\n",
      "Top main feature is PctKids2Par\n"
     ]
    }
   ],
   "source": [
    "# We can check the main features used for classification by checking the feature importance, the higher the value,\n",
    "# more important the feature would be.\n",
    "# We can sort the importance scores in descending order and take the top most.\n",
    "importances=dt_clf.feature_importances_\n",
    "indices = np.argsort(importances)[::-1]\n",
    "# Print the feature ranking\n",
    "print(\"Feature ranking:\")\n",
    "# We have taken the top 5 feature \n",
    "print(\"The main features used for classification\")\n",
    "print(X.columns[indices[:5]])\n",
    "print(\"Top main feature is\",X.columns[indices[:1]][0])"
   ]
  },
  {
   "cell_type": "code",
   "execution_count": 9,
   "metadata": {},
   "outputs": [
    {
     "name": "stdout",
     "output_type": "stream",
     "text": [
      "Cross Validation Accuracy DT: 0.7982437185929648\n",
      "Cross Validation Recall DT: 0.8432674799594686\n",
      "Cross Validation Precision DT: 0.8392\n"
     ]
    }
   ],
   "source": [
    "# Applying 10 fold cross validation\n",
    "dt_cv_accuracy = cross_val_score(dt_clf, X, y, cv=10).mean()\n",
    "dt_cv_precision= cross_val_score(dt_clf, X, y, cv=10, scoring='precision').mean()\n",
    "dt_cv_recall = cross_val_score(dt_clf, X, y, cv=10, scoring='recall').mean()\n",
    "print(\"Cross Validation Accuracy DT:\", dt_cv_accuracy)\n",
    "print(\"Cross Validation Recall DT:\", dt_cv_precision)\n",
    "print(\"Cross Validation Precision DT:\", dt_cv_recall)"
   ]
  },
  {
   "cell_type": "markdown",
   "metadata": {},
   "source": [
    "#### 2. Linear Classification"
   ]
  },
  {
   "cell_type": "code",
   "execution_count": 10,
   "metadata": {},
   "outputs": [
    {
     "name": "stdout",
     "output_type": "stream",
     "text": [
      "Accuracy for gaussian : 0.761608040201005\n",
      "Recall for gaussian: 0.692\n",
      "Precision for gaussian: 0.9117998148278733\n"
     ]
    }
   ],
   "source": [
    "# Using GaussianNB\n",
    "gaussian_clf = GaussianNB()\n",
    "gaussian_clf.fit(X, y)\n",
    "\n",
    "# Applying 10 fold cross validation\n",
    "gaussian_accuracy = cross_val_score(gaussian_clf, X, y, cv=10).mean()\n",
    "gaussian_precision= cross_val_score(gaussian_clf, X, y, cv=10, scoring='precision').mean()\n",
    "gaussian_recall = cross_val_score(gaussian_clf, X, y, cv=10, scoring='recall').mean()\n",
    "print(\"Accuracy for gaussian :\", gaussian_accuracy)\n",
    "print(\"Recall for gaussian:\", gaussian_recall)\n",
    "print(\"Precision for gaussian:\", gaussian_precision)"
   ]
  },
  {
   "cell_type": "code",
   "execution_count": 11,
   "metadata": {},
   "outputs": [
    {
     "name": "stdout",
     "output_type": "stream",
     "text": [
      "('MalePctDivorce', 0.6165342437579264)\n",
      "('PctTeen2Par', 0.6426208020335665)\n",
      "('pctWInvInc', 0.6607203219208594)\n",
      "('PctYoungKids2Par', 0.6646705535981033)\n",
      "('TotalPctDiv', 0.6742823162675443)\n",
      "('FemalePctDiv', 0.6936040623575482)\n",
      "('PctIlleg', 0.7089291060645266)\n",
      "('racePctWhite', 0.7348840522379364)\n",
      "('PctFam2Par', 0.74516152011997)\n",
      "('PctKids2Par', 0.8093364216318364)\n"
     ]
    }
   ],
   "source": [
    "df_predictiveFeature = communities_crime_df.drop('state', axis=1).drop('communityname', axis=1).drop('fold', axis=1)\n",
    "\n",
    "dictPredFeature = {}\n",
    "# Collecting data for the two classes\n",
    "true_df = X[df_predictiveFeature['highCrime'] == 1]\n",
    "false_df = X[df_predictiveFeature['highCrime'] == 0]\n",
    "for column in X:\n",
    "    mean_true = true_df[column].mean()\n",
    "    mean_false = false_df[column].mean()\n",
    "    var_true = true_df[column].var()\n",
    "    var_false = false_df[column].var()\n",
    "    if(column != 'highCrime'):\n",
    "        predScore = abs((mean_true - mean_false))/(math.sqrt(var_true)+math.sqrt(var_false))\n",
    "        dictPredFeature[column] = predScore\n",
    "most_pred_features = sorted(dictPredFeature.items(), key=lambda x: x[1])[-10:]\n",
    "for i in most_pred_features:\n",
    "    print(i)"
   ]
  },
  {
   "cell_type": "code",
   "execution_count": 12,
   "metadata": {},
   "outputs": [
    {
     "data": {
      "image/png": "[encoded data removed]",
      "text/plain": [
       "<Figure size 432x288 with 1 Axes>"
      ]
     },
     "metadata": {
      "needs_background": "light"
     },
     "output_type": "display_data"
    }
   ],
   "source": [
    "labels = [\"DT\" ,\"GaussianNB\"]\n",
    "acc_list = [dt_cv_accuracy,gaussian_accuracy]\n",
    "pre_list = [dt_cv_precision,gaussian_precision]\n",
    "re_list = [dt_cv_recall,gaussian_recall]\n",
    "\n",
    "x_axis_range = range(2)\n",
    "plt.xticks(x_axis_range, labels, rotation='vertical')\n",
    "# plt.legend()\n",
    "\n",
    "plt.plot(x_axis_range,acc_list,'ro',color=\"Red\",label=\"Accuracy\")\n",
    "plt.plot(x_axis_range,pre_list,'>',color=\"green\",label=\"Precision\")\n",
    "plt.plot(x_axis_range,re_list,'<',color=\"green\",label=\"Recall\")\n",
    "\n",
    "plt.xlabel('Model')\n",
    "plt.ylabel('Metrics')\n",
    "plt.margins(0.2)\n",
    "plt.subplots_adjust(bottom=0.15)\n",
    "legend = plt.legend()\n",
    "plt.show()"
   ]
  },
  {
   "cell_type": "code",
   "execution_count": 13,
   "metadata": {},
   "outputs": [
    {
     "name": "stdout",
     "output_type": "stream",
     "text": [
      "Accuracy for LinearSVC is 0.8047537688442212\n",
      "Precision for LinearSVC is 0.8551793727894672\n",
      "Recall for LinearSVC is 0.8375999999999999\n"
     ]
    }
   ],
   "source": [
    "linearsvmclf = svm.SVC(kernel='linear', C =1.0)\n",
    "accuracy_svm = cross_val_score(linearsvmclf, X, y, cv=10, scoring='accuracy').mean()\n",
    "precision_svm = cross_val_score(linearsvmclf, X, y, cv=10, scoring='precision').mean()\n",
    "recall_svm = cross_val_score(linearsvmclf, X, y, cv=10, scoring='recall').mean()\n",
    "print ('Accuracy for LinearSVC is', accuracy_svm)\n",
    "print ('Precision for LinearSVC is', precision_svm)\n",
    "print ('Recall for LinearSVC is', recall_svm)"
   ]
  },
  {
   "cell_type": "code",
   "execution_count": 14,
   "metadata": {},
   "outputs": [
    {
     "data": {
      "text/plain": [
       "[('agePct12t21', 0.9844298794100456),\n",
       " ('RentHighQ', 0.9916382536111196),\n",
       " ('PersPerOccupHous', 1.027554397352899),\n",
       " ('MalePctDivorce', 1.073578841827074),\n",
       " ('population', 1.1086454264275147),\n",
       " ('PctFam2Par', 1.5426528869036265),\n",
       " ('racepctblack', 1.7203177655788284),\n",
       " ('PctKids2Par', 2.0576723456134776),\n",
       " ('racePctWhite', 2.2351581784693813),\n",
       " ('pctWInvInc', 2.3861552101921903)]"
      ]
     },
     "execution_count": 14,
     "metadata": {},
     "output_type": "execute_result"
    }
   ],
   "source": [
    "linearsvmclf.fit(X,y)\n",
    "\n",
    "linearsvmclf_coef_array = {}\n",
    "count = 0\n",
    "for i in X.columns:\n",
    "    linearsvmclf_coef_array[i] = abs(linearsvmclf.coef_[0][count])\n",
    "    count = count+ 1\n",
    "\n",
    "most_predictive_features = sorted(linearsvmclf_coef_array.items(), key=lambda x: x[1])[-10:]\n",
    "most_predictive_features"
   ]
  },
  {
   "cell_type": "code",
   "execution_count": 15,
   "metadata": {},
   "outputs": [
    {
     "data": {
      "image/png": "[encoded data removed]",
      "text/plain": [
       "<Figure size 432x288 with 1 Axes>"
      ]
     },
     "metadata": {
      "needs_background": "light"
     },
     "output_type": "display_data"
    }
   ],
   "source": [
    "labels = [\"DT\" ,\"LinearSVC\"]\n",
    "acc_list = [dt_cv_accuracy,accuracy_svm]\n",
    "pre_list = [dt_cv_precision,precision_svm]\n",
    "re_list = [dt_cv_recall,recall_svm]\n",
    "\n",
    "x_axis_range = range(2)\n",
    "plt.xticks(x_axis_range, labels, rotation='vertical')\n",
    "# plt.legend()\n",
    "\n",
    "plt.plot(x_axis_range,acc_list,'ro',color=\"Red\",label=\"Accuracy\")\n",
    "plt.plot(x_axis_range,pre_list,'>',color=\"green\",label=\"Precision\")\n",
    "plt.plot(x_axis_range,re_list,'<',color=\"green\",label=\"Recall\")\n",
    "\n",
    "plt.xlabel('Model')\n",
    "plt.ylabel('Metrics')\n",
    "plt.margins(0.2)\n",
    "plt.subplots_adjust(bottom=0.15)\n",
    "legend = plt.legend()\n",
    "plt.show()"
   ]
  },
  {
   "cell_type": "markdown",
   "metadata": {},
   "source": [
    "#### 3. Regression"
   ]
  },
  {
   "cell_type": "code",
   "execution_count": 16,
   "metadata": {},
   "outputs": [
    {
     "name": "stdout",
     "output_type": "stream",
     "text": [
      "Estimated meansquared- error (MSE) of the model is 0.02009396930444534\n"
     ]
    }
   ],
   "source": [
    "Y = communities_crime_df['ViolentCrimesPerPop']\n",
    "linear_regression = LinearRegression()\n",
    "#df = df.drop('highCrime', 1)\n",
    "mean_sq_err= cross_val_score(linear_regression,X, Y,scoring='neg_mean_squared_error',cv=10)\n",
    "print(\"Estimated meansquared- error (MSE) of the model is\",np.abs(mean_sq_err.mean()))"
   ]
  },
  {
   "cell_type": "code",
   "execution_count": 17,
   "metadata": {},
   "outputs": [
    {
     "name": "stdout",
     "output_type": "stream",
     "text": [
      "MSE on the training set is 0.016516774880307186\n"
     ]
    }
   ],
   "source": [
    "linear_regression.fit(X,Y)\n",
    "print(\"MSE on the training set is {}\".format(np.mean((linear_regression.predict(X) - Y) ** 2)))"
   ]
  },
  {
   "cell_type": "code",
   "execution_count": 18,
   "metadata": {},
   "outputs": [
    {
     "name": "stdout",
     "output_type": "stream",
     "text": [
      "Most Predictive Feature of a High Crime Rate is population\n",
      "Most Predictive Feature of a Low Crime Rate is population\n"
     ]
    }
   ],
   "source": [
    "# Taking the coefficients in an array\n",
    "list_coef = np.array(linear_regression)\n",
    "\n",
    "\n",
    "print(\"Most Predictive Feature of a High Crime Rate is\", X.columns[np.argmax(list_coef)])\n",
    "print(\"Most Predictive Feature of a Low Crime Rate is\", X.columns[np.argmin(list_coef)])"
   ]
  },
  {
   "cell_type": "code",
   "execution_count": 19,
   "metadata": {},
   "outputs": [
    {
     "name": "stdout",
     "output_type": "stream",
     "text": [
      "Best alpha 1.0\n"
     ]
    }
   ],
   "source": [
    "clf = RidgeCV(alphas=(10, 1, 0.1, 0.01, 0.001))\n",
    "clf.fit(X, Y)\n",
    "print(\"Best alpha\", clf.alpha_)  \n",
    "\n",
    "#Other way to find out best aplha \n",
    "#alphas = np.array([10, 1, 0.1, 0.01, 0.001])\n",
    "#model = Ridge()\n",
    "#grid = GridSearchCV(estimator=model, param_grid=dict(alpha=alphas))\n",
    "#grid.fit(X, Y)\n",
    "#print(grid.best_estimator_.alpha)"
   ]
  },
  {
   "cell_type": "code",
   "execution_count": 20,
   "metadata": {},
   "outputs": [
    {
     "name": "stdout",
     "output_type": "stream",
     "text": [
      "Estimated meansquared- error (MSE) of the model is 0.019795021348172296\n"
     ]
    }
   ],
   "source": [
    "ridge_clf = linear_model.Ridge(alpha=1.0)\n",
    "ridge_clf.fit(X,Y)\n",
    "mean_sq_err= cross_val_score(ridge_clf,X, Y,scoring='neg_mean_squared_error',cv=10)\n",
    "print(\"Estimated meansquared- error (MSE) of the model is\",np.abs(mean_sq_err.mean()))"
   ]
  },
  {
   "cell_type": "code",
   "execution_count": 21,
   "metadata": {},
   "outputs": [
    {
     "name": "stdout",
     "output_type": "stream",
     "text": [
      "MSE on the training set is 0.02\n"
     ]
    }
   ],
   "source": [
    "print(\"MSE on the training set is {0:0.2f}\".format(np.mean((ridge_clf.predict(X) - Y) ** 2)))\n",
    "\n",
    "#ridge_reg=linear_model.Ridge(alpha = 0.001)\n",
    "#ridge_reg.fit(X,Y)\n",
    "\n",
    "#print(\"Mean squared error: %.2f\"\n",
    "#      % np.mean((ridge_reg.predict(X) - Y) ** 2))\n",
    "#print(\"MSE on the training set is {}\".format(np.mean((ridge_reg.predict(X) - Y) ** 2)))"
   ]
  },
  {
   "cell_type": "code",
   "execution_count": 22,
   "metadata": {},
   "outputs": [
    {
     "name": "stdout",
     "output_type": "stream",
     "text": [
      "Estimated MSE of the model under 10-fold CV is 0.12990229461154573\n"
     ]
    }
   ],
   "source": [
    "poly_feature = PolynomialFeatures(degree  = 2, interaction_only = False)\n",
    "poly_df = poly_feature.fit_transform(X)\n",
    "ridge_clf.fit(poly_df,y)\n",
    "## caluclating MSE\n",
    "poly_mse= cross_val_score(linear_regression, poly_df, Y,scoring='neg_mean_squared_error',cv=10)\n",
    "print(\"Estimated MSE of the model under 10-fold CV is\",np.abs(poly_mse.mean()))"
   ]
  },
  {
   "cell_type": "code",
   "execution_count": 23,
   "metadata": {},
   "outputs": [
    {
     "name": "stdout",
     "output_type": "stream",
     "text": [
      "Mean squared error: 0.23\n"
     ]
    }
   ],
   "source": [
    "print(\"Mean squared error: %.2f\" % np.mean((ridge_clf.predict(poly_df) - Y) ** 2))"
   ]
  },
  {
   "cell_type": "markdown",
   "metadata": {},
   "source": [
    "#### 4. Non-linear Kernel for SVM"
   ]
  },
  {
   "cell_type": "code",
   "execution_count": 24,
   "metadata": {},
   "outputs": [
    {
     "name": "stdout",
     "output_type": "stream",
     "text": [
      "Accuracy for polynomial(Clean Data) is 0.7385527638190956\n",
      "Precision for polynomial(Clean Data) is 0.7980639402193053\n",
      "Recall for polynomial(Clean Data) is 0.7935999999999999\n"
     ]
    }
   ],
   "source": [
    "# Applying polynomial Kernel SVC\n",
    "poly_clf = svm.SVC(kernel='poly', degree=2, C= 50)\n",
    "X_d = X\n",
    "y_d = y\n",
    "# For large values of C, the optimization will choose a smaller-margin hyperplane if that hyperplane does a better job of getting all the training points classified correctly.\n",
    "# clean dataset \n",
    "poly_accuracy_d = cross_val_score(poly_clf, X_d, y_d, cv=10, scoring='accuracy').mean()\n",
    "poly_precision_d = cross_val_score(poly_clf, X_d, y_d, cv=10, scoring='precision').mean()\n",
    "poly_recall_d = cross_val_score(poly_clf, X_d, y_d, cv=10, scoring='recall').mean()\n",
    "\n",
    "print ('Accuracy for polynomial(Clean Data) is', poly_accuracy_d)\n",
    "print ('Precision for polynomial(Clean Data) is', poly_precision_d)\n",
    "print ('Recall for polynomial(Clean Data) is', poly_recall_d)"
   ]
  },
  {
   "cell_type": "code",
   "execution_count": 25,
   "metadata": {},
   "outputs": [
    {
     "name": "stdout",
     "output_type": "stream",
     "text": [
      "Accuracy for polynomial(Clean Data) is 0.7385527638190956\n",
      "Precision for polynomial(Clean Data) is 0.7980639402193053\n",
      "Recall for polynomial(Clean Data) is 0.7935999999999999\n"
     ]
    }
   ],
   "source": [
    "# clean dataset\n",
    "X = communities_crime_df.drop('ViolentCrimesPerPop', axis=1).drop('state', axis=1).drop('communityname', axis=1).drop('fold', axis=1).drop('highCrime', axis=1)\n",
    "features = list(X.columns)\n",
    "y = communities_crime_df[\"highCrime\"]\n",
    "\n",
    "poly_accuracy = cross_val_score(poly_clf, X, y, cv=10, scoring='accuracy').mean()\n",
    "poly_precision = cross_val_score(poly_clf, X, y, cv=10, scoring='precision').mean()\n",
    "poly_recall = cross_val_score(poly_clf, X, y, cv=10, scoring='recall').mean()\n",
    "\n",
    "print ('Accuracy for polynomial(Clean Data) is', poly_accuracy)\n",
    "print ('Precision for polynomial(Clean Data) is', poly_precision)\n",
    "print ('Recall for polynomial(Clean Data) is', poly_recall)"
   ]
  },
  {
   "cell_type": "code",
   "execution_count": 26,
   "metadata": {},
   "outputs": [
    {
     "name": "stdout",
     "output_type": "stream",
     "text": [
      "Accuracy is for KMeans(Clean data) 0.5220653266331658\n",
      "Precision is for KMeans(Clean data) 0.6250689249591745\n",
      "Recall is for KMeans(Clean data) 0.4210620051686306\n"
     ]
    }
   ],
   "source": [
    "#clf = KMeans(n_clusters = 2)\n",
    "km_clf = KMeans(n_clusters = 2)\n",
    "km_accuracy = cross_val_score(km_clf, X, y, cv=10, scoring='accuracy').mean()\n",
    "km_precision = cross_val_score(km_clf, X, y, cv=10, scoring='precision').mean()\n",
    "km_recall = cross_val_score(km_clf, X, y, cv=10, scoring='recall').mean()\n",
    "\n",
    "print ('Accuracy is for KMeans(Clean data)', km_accuracy)\n",
    "print ('Precision is for KMeans(Clean data)', km_precision)\n",
    "print ('Recall is for KMeans(Clean data)', km_recall)"
   ]
  },
  {
   "cell_type": "code",
   "execution_count": 27,
   "metadata": {},
   "outputs": [
    {
     "data": {
      "image/png": "[encoded data removed]",
      "text/plain": [
       "<Figure size 432x288 with 1 Axes>"
      ]
     },
     "metadata": {
      "needs_background": "light"
     },
     "output_type": "display_data"
    }
   ],
   "source": [
    "names = [\"Nonlinear SVM\" ,\"K Means\"]\n",
    "acc_list = [poly_accuracy,km_accuracy]\n",
    "pre_list = [poly_precision,km_precision]\n",
    "re_list = [poly_recall,km_recall]\n",
    "xaxisRange = range(2)\n",
    "plt.xticks(xaxisRange, names, rotation=45)\n",
    "# plt.legend()\n",
    "\n",
    "plt.plot(xaxisRange,acc_list,'ro',color=\"Red\",label=\"Accuracy\")\n",
    "plt.plot(xaxisRange,pre_list,'>',color=\"green\",label=\"Precision\")\n",
    "plt.plot(xaxisRange,pre_list,'<',color=\"green\",label=\"Recall\")\n",
    "\n",
    "plt.xlabel('Model')\n",
    "plt.ylabel('Metrics')\n",
    "plt.margins(0.2)\n",
    "plt.subplots_adjust(bottom=0.15)\n",
    "legend = plt.legend()\n",
    "plt.show()"
   ]
  },
  {
   "cell_type": "markdown",
   "metadata": {},
   "source": [
    "#### 5. GradientBoostingClassifier"
   ]
  },
  {
   "cell_type": "code",
   "execution_count": 28,
   "metadata": {},
   "outputs": [
    {
     "name": "stdout",
     "output_type": "stream",
     "text": [
      "Accuracy GradientBoostingClassifier(Clean Data) is 0.79871608040201\n",
      "Precision GradientBoostingClassifier(Clean Data)is 0.8503050027440275\n",
      "Recall is GradientBoostingClassifier(Clean Data) is  0.836\n"
     ]
    }
   ],
   "source": [
    "clf = GradientBoostingClassifier()\n",
    "clf.fit(X_d, y_d)\n",
    "acc_scores = cross_val_score(clf, X, y, cv=10, scoring='accuracy').mean()\n",
    "pre_scores = cross_val_score(clf, X, y, cv=10, scoring='precision').mean()\n",
    "rec_scores = cross_val_score(clf, X, y, cv=10, scoring='recall').mean()\n",
    "print ('Accuracy GradientBoostingClassifier(Clean Data) is', acc_scores)\n",
    "print ('Precision GradientBoostingClassifier(Clean Data)is', pre_scores)\n",
    "print ('Recall is GradientBoostingClassifier(Clean Data) is ', rec_scores)"
   ]
  },
  {
   "cell_type": "code",
   "execution_count": 29,
   "metadata": {},
   "outputs": [
    {
     "name": "stdout",
     "output_type": "stream",
     "text": [
      "Accuracy for RandomForestClassifier is 0.811286432160804\n",
      "Precision for RandomForestClassifier is 0.8364263056366825\n",
      "Recall for RandomForestClassifier is 0.8784000000000001\n"
     ]
    }
   ],
   "source": [
    "clf = RandomForestClassifier(random_state=100, max_depth=3)\n",
    "\n",
    "rf_accuracy = cross_val_score(clf, X_d, y_d, cv=10, scoring='accuracy').mean()\n",
    "rf_precision = cross_val_score(clf, X_d, y_d, cv=10, scoring='precision').mean()\n",
    "rf_recall = cross_val_score(clf, X_d, y_d, cv=10, scoring='recall').mean()\n",
    "\n",
    "print ('Accuracy for RandomForestClassifier is', rf_accuracy)\n",
    "print ('Precision for RandomForestClassifier is', rf_precision)\n",
    "print ('Recall for RandomForestClassifier is', rf_recall)"
   ]
  }
 ],
 "metadata": {
  "kernelspec": {
   "display_name": "Python 3",
   "language": "python",
   "name": "python3"
  },
  "language_info": {
   "codemirror_mode": {
    "name": "ipython",
    "version": 3
   },
   "file_extension": ".py",
   "mimetype": "text/x-python",
   "name": "python",
   "nbconvert_exporter": "python",
   "pygments_lexer": "ipython3",
   "version": "3.8.3"
  }
 },
 "nbformat": 4,
 "nbformat_minor": 4
}
